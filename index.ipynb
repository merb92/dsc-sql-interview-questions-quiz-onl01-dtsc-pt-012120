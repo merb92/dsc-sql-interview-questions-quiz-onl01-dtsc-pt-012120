{
 "cells": [
  {
   "cell_type": "markdown",
   "metadata": {},
   "source": [
    "# SQL Interview Questions  - Quiz\n",
    "\n",
    "\n",
    "## Introduction\n",
    "\n",
    "This quiz contains questions on topics you can expect to see in an interview pertaining to SQL and Relational Databases. Some of them are multiple choice, while some are short answer. For these short answer questions, double click on the Jupyter Notebook and type your answer below the line. \n",
    "\n",
    "## Question 1\n",
    "\n",
    "What are the 4 main datatypes in SQLite3? Can we use other common types from other kinds of SQL?\n",
    "\n",
    "Type your answer below this line:\n",
    "_______________________________________________________________________________________________________________________________"
   ]
  },
  {
   "cell_type": "markdown",
   "metadata": {},
   "source": [
    "TEXT, INTEGER, REAL, BLOB.  We can use other common datatypes in SQLITE to increase compatability with other DB engines."
   ]
  },
  {
   "cell_type": "markdown",
   "metadata": {},
   "source": [
    "## Question 2\n",
    "\n",
    "Explain the relationship between **Primary Keys** and **Foreign Keys**.\n",
    "\n",
    "Type your answer below this line:\n",
    "_______________________________________________________________________________________________________________________________"
   ]
  },
  {
   "cell_type": "markdown",
   "metadata": {},
   "source": [
    "A Primary Key is the unique ID of each row of the current table, a Foreign Key is a value in the current table that is the Primary Key of another table."
   ]
  },
  {
   "cell_type": "markdown",
   "metadata": {},
   "source": [
    "## Question 3\n",
    "\n",
    "Explain the different types of relationships entities can have in a SQL database. \n",
    "\n",
    "Type your answer below this line:\n",
    "_______________________________________________________________________________________________________________________________"
   ]
  },
  {
   "cell_type": "markdown",
   "metadata": {},
   "source": [
    "ONE to One\n",
    "data in one table is linked by a FOREIGN KEY to only one item of data in another table\n",
    "One to Many - data in one table is linked to MANY data items in another table\n",
    "Many to Many - data in one table is linked to MANY data items in another table and those MANY data items have links to MANY items in the first table"
   ]
  },
  {
   "cell_type": "markdown",
   "metadata": {},
   "source": [
    "## Question 4\n",
    "\n",
    "Explain the various types of JOINs possible with SQL. \n",
    "\n",
    "Type your answer below this line:\n",
    "_______________________________________________________________________________________________________________________________"
   ]
  },
  {
   "cell_type": "markdown",
   "metadata": {},
   "source": [
    "INNER JOIN - the default JOIN operation.  It returns data based upon the criteria for the JOIN that exist in both tables.\n",
    "LEFT JOIN - Returns all the data from the LEFT table plus data from the RIGHT table that matches the criteria for the JOIN.\n",
    "RIGHT - the opposite of Left\n",
    "OUTER - returns the data with no matches\n",
    "FULL - returns a Cartesion Product (not used much)"
   ]
  },
  {
   "cell_type": "markdown",
   "metadata": {},
   "source": [
    "## Question 5\n",
    "\n",
    "Explain the relationship between Aggregate functions and GROUP BY statements.\n",
    "\n",
    "Type your answer below this line:\n",
    "_______________________________________________________________________________________________________________________________"
   ]
  },
  {
   "cell_type": "markdown",
   "metadata": {},
   "source": [
    "By using the GROUP BY statement on a column, aggregate values can be generated from other coloumns.  Ex. AVG, SUM, COUNT."
   ]
  },
  {
   "cell_type": "markdown",
   "metadata": {},
   "source": [
    "## Question 6\n",
    "\n",
    "What role do Associative Entities play (JOIN Tables) in many-to-many JOINs?\n",
    "\n",
    "\n",
    "Type your answer below this line:\n",
    "_______________________________________________________________________________________________________________________________"
   ]
  },
  {
   "cell_type": "markdown",
   "metadata": {},
   "source": [
    "The associative entity is the table that contains references both ways to the other tables in the MANY to MANY JOIN."
   ]
  },
  {
   "cell_type": "markdown",
   "metadata": {},
   "source": [
    "## Summary\n",
    "\n",
    "In this lesson, we practiced answering open-ended interview questions for SQL and Relational Databases. "
   ]
  },
  {
   "cell_type": "code",
   "execution_count": null,
   "metadata": {},
   "outputs": [],
   "source": []
  }
 ],
 "metadata": {
  "kernelspec": {
   "display_name": "Python 3",
   "language": "python",
   "name": "python3"
  },
  "language_info": {
   "codemirror_mode": {
    "name": "ipython",
    "version": 3
   },
   "file_extension": ".py",
   "mimetype": "text/x-python",
   "name": "python",
   "nbconvert_exporter": "python",
   "pygments_lexer": "ipython3",
   "version": "3.6.9"
  }
 },
 "nbformat": 4,
 "nbformat_minor": 2
}
